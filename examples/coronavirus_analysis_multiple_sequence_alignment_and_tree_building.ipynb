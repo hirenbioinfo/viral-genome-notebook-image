{
 "cells": [
  {
   "cell_type": "markdown",
   "metadata": {},
   "source": [
    "# Multiple sequence alignment and tree building\n",
    "\n",
    "* __Notebook version__: `v0.0.1`\n",
    "* __Created by:__ [Dr. Hiren Ghosh](https://www.linkedin.com/in/hiren-ghosh-phd-6181853a), `Imperial BRC Genomics Facility`\n",
    "* __Maintained by:__ `Imperial BRC Genomics Facility`\n",
    "* __Docker image:__ `TODO`\n",
    "* __Github repository:__ [imperial-genomics-facility/viral-genome-notebook-image](https://github.com/imperial-genomics-facility/viral-genome-notebook-image)\n",
    "* __Created on:__ `2020-April-21 14:42`\n",
    "* __Contact us:__ [Imperial BRC Genomics Facility](https://www.imperial.ac.uk/medicine/research-and-impact/facilities/genomics-facility/contact/)\n",
    "* __License:__ [Apache License 2.0](https://github.com/imperial-genomics-facility/scanpy-notebook-image/blob/master/LICENSE)"
   ]
  },
  {
   "cell_type": "markdown",
   "metadata": {},
   "source": [
    "## Data fetching\n",
    "\n",
    "Download the corona virus genome sequences mentioned in the paper [Complete Genome Sequence of a 2019 Novel Coronavirus (SARS-CoV-2) Strain Isolated in Nepal](https://mra.asm.org/content/9/11/e00169-20)\n",
    "\n",
    "__List of genomes__:\n",
    "\n",
    "* [__NC_045512.2__](https://www.ncbi.nlm.nih.gov/nuccore/NC_045512.2): Severe acute respiratory syndrome coronavirus 2 isolate Wuhan-Hu-1, complete genome\n",
    "* [__MN988668.1__](https://www.ncbi.nlm.nih.gov/nuccore/MN988668.1): Severe acute respiratory syndrome coronavirus 2 isolate 2019-nCoV WHU01, complete genome\n",
    "* [__MN938384.1__](https://www.ncbi.nlm.nih.gov/nuccore/MN938384.1): Severe acute respiratory syndrome coronavirus 2 isolate 2019-nCoV_HKU-SZ-002a_2020, complete genome\n",
    "* [__MN975262.1__](https://www.ncbi.nlm.nih.gov/nuccore/MN975262.1): Severe acute respiratory syndrome coronavirus 2 isolate 2019-nCoV_HKU-SZ-005b_2020, complete genome\n",
    "* [__MN985325.1__](https://www.ncbi.nlm.nih.gov/nuccore/MN985325.1): Severe acute respiratory syndrome coronavirus 2 isolate 2019-nCoV/USA-WA1/2020, complete genome\n",
    "* [__MN988713.1__](https://www.ncbi.nlm.nih.gov/nuccore/MN988713.1): Severe acute respiratory syndrome coronavirus 2 isolate 2019-nCoV/USA-IL1/2020, complete genome\n",
    "* [__MN994467.1__](https://www.ncbi.nlm.nih.gov/nuccore/MN994467.1): Severe acute respiratory syndrome coronavirus 2 isolate 2019-nCoV/USA-CA1/2020, complete genome\n",
    "* [__MN994468.1__](https://www.ncbi.nlm.nih.gov/nuccore/MN994468.1): Severe acute respiratory syndrome coronavirus 2 isolate 2019-nCoV/USA-CA2/2020, complete genome\n",
    "* [__MN997409.1__](https://www.ncbi.nlm.nih.gov/nuccore/MN997409.1): Severe acute respiratory syndrome coronavirus 2 isolate 2019-nCoV/USA-AZ1/2020, complete genome"
   ]
  },
  {
   "cell_type": "code",
   "execution_count": 1,
   "metadata": {},
   "outputs": [],
   "source": [
    "import os\n",
    "import requests\n",
    "import json\n",
    "import time\n",
    "from ete3 import Tree, TreeStyle,SeqMotifFace\n",
    "from PIL import Image\n",
    "os.environ['QT_QPA_PLATFORM']='offscreen'"
   ]
  },
  {
   "cell_type": "code",
   "execution_count": 2,
   "metadata": {},
   "outputs": [],
   "source": [
    "def fetch_genome_fasta_from_ncbi(refseq_id,output_path='.'):\n",
    "  '''\n",
    "  A function for fetching the genome fasta sequences from NCBI\n",
    "  \n",
    "  :param refseq_id: NCBI genome id\n",
    "  :param output_path: Path to dump genome files, default '.'\n",
    "  '''\n",
    "  try:\n",
    "    url = \\\n",
    "      'https://eutils.ncbi.nlm.nih.gov/entrez/eutils/efetch.fcgi?db=nucleotide&id={0}&rettype=fasta'.\\\n",
    "        format(refseq_id)\n",
    "    r = requests.get(url)\n",
    "    fasta_data = r.content.decode('utf-8')\n",
    "    output_file = \\\n",
    "      os.path.join(\n",
    "        os.path.abspath(output_path),\n",
    "        '{0}.fa'.format(refseq_id))\n",
    "    with open(output_file,'w') as fp:\n",
    "      fp.write(fasta_data)\n",
    "    print('Downloaded genome seq for {0}'.format(refseq_id))\n",
    "  except Exception as e:\n",
    "    print('Failed to download data for {0} from NCBI, error: {1}'.format(refseq_id,e))"
   ]
  },
  {
   "cell_type": "code",
   "execution_count": 3,
   "metadata": {},
   "outputs": [],
   "source": [
    "genome_list = [\n",
    "    'MN988668.1',\n",
    "    'NC_045512.2',\n",
    "    'MN938384.1',\n",
    "    'MN975262.1',\n",
    "    'MN985325.1',\n",
    "    'MN988713.1',\n",
    "    'MN994467.1',\n",
    "    'MN994468.1',\n",
    "    'MN997409.1'\n",
    "]"
   ]
  },
  {
   "cell_type": "code",
   "execution_count": null,
   "metadata": {},
   "outputs": [],
   "source": [
    "for id in genome_list:\n",
    "    fetch_genome_fasta_from_ncbi(id)\n",
    "    time.sleep(2)"
   ]
  },
  {
   "cell_type": "markdown",
   "metadata": {},
   "source": [
    "## Multiple sequence alignment with Muscle\n",
    "\n",
    "Merge all fasta files to a single filne and create multiple sequence alignment"
   ]
  },
  {
   "cell_type": "code",
   "execution_count": null,
   "metadata": {},
   "outputs": [],
   "source": [
    "%%bash\n",
    "cat NC*.fa > corona.fa\n",
    "cat MN*.fa >> corona.fa\n",
    "grep '>' corona.fa|wc -l"
   ]
  },
  {
   "cell_type": "code",
   "execution_count": null,
   "metadata": {},
   "outputs": [],
   "source": [
    "!muscle -in corona.fa -out muscle_out.afa"
   ]
  },
  {
   "cell_type": "markdown",
   "metadata": {},
   "source": [
    "## Tree building using FastTree\n",
    "\n",
    "Build phylogenetic tree with FastTree"
   ]
  },
  {
   "cell_type": "code",
   "execution_count": null,
   "metadata": {},
   "outputs": [],
   "source": [
    "!FastTree -nt -gtr < muscle_out.afa >corona.tree"
   ]
  },
  {
   "cell_type": "markdown",
   "metadata": {},
   "source": [
    "## Plotting trees"
   ]
  },
  {
   "cell_type": "code",
   "execution_count": null,
   "metadata": {},
   "outputs": [],
   "source": [
    "t = Tree(\"corona.tree\")"
   ]
  },
  {
   "cell_type": "code",
   "execution_count": null,
   "metadata": {},
   "outputs": [],
   "source": [
    "## ascii tree\n",
    "print(t)"
   ]
  },
  {
   "cell_type": "code",
   "execution_count": null,
   "metadata": {},
   "outputs": [],
   "source": [
    "## plain tree\n",
    "t.render(\"%%inline\")"
   ]
  },
  {
   "cell_type": "code",
   "execution_count": null,
   "metadata": {},
   "outputs": [],
   "source": [
    "## circular tree\n",
    "ts = TreeStyle()\n",
    "ts.mode = \"c\"\n",
    "t.render(\"%%inline\",  tree_style=ts)"
   ]
  },
  {
   "cell_type": "code",
   "execution_count": null,
   "metadata": {},
   "outputs": [],
   "source": [
    "## tree with branch length\n",
    "ts = TreeStyle()\n",
    "ts.show_leaf_name = True\n",
    "ts.show_branch_length = True\n",
    "ts.show_branch_support = True\n",
    "t.render(\"%%inline\", tree_style=ts)"
   ]
  },
  {
   "cell_type": "code",
   "execution_count": null,
   "metadata": {},
   "outputs": [],
   "source": [
    "## 180 deg circular tree\n",
    "ts = TreeStyle()\n",
    "ts.show_leaf_name = True\n",
    "ts.mode = \"c\"\n",
    "ts.arc_start = -180 # 0 degrees = 3 o'clock\n",
    "ts.arc_span = 180\n",
    "t.render(\"%%inline\", tree_style=ts)"
   ]
  },
  {
   "cell_type": "code",
   "execution_count": null,
   "metadata": {},
   "outputs": [],
   "source": [
    "## read aligned fastq file\n",
    "fasta_data = dict()\n",
    "with open('muscle_out.afa','r') as fp:\n",
    "    header = ''\n",
    "    fasta_list = list()\n",
    "    for line in fp:\n",
    "        line = line.strip()\n",
    "        if line.startswith('>'):\n",
    "            if header != '':\n",
    "                fasta_data.update({header:''.join(fasta_list)})\n",
    "            header = line.split()[0].replace('>','')\n",
    "            fasta_list = list()\n",
    "        else:\n",
    "            fasta_list.append(line)\n",
    "    \n",
    "    fasta_data.update({header:''.join(fasta_list)})"
   ]
  },
  {
   "cell_type": "code",
   "execution_count": null,
   "metadata": {},
   "outputs": [],
   "source": [
    "## tree with aligned seq\n",
    "for seq_id,seq in fasta_data.items():\n",
    "    seqFace = SeqMotifFace(seq, gapcolor=\"red\")\n",
    "    (t & \"{0}\".format(seq_id)).add_face(seqFace, 0, \"aligned\")\n",
    "ts = TreeStyle()\n",
    "ts.tree_width = 100\n",
    "t.render(\"tree_with_aln.png\", tree_style=ts);\n",
    "## check png using image viewer"
   ]
  }
 ],
 "metadata": {
  "kernelspec": {
   "display_name": "Python 3",
   "language": "python",
   "name": "python3"
  },
  "language_info": {
   "codemirror_mode": {
    "name": "ipython",
    "version": 3
   },
   "file_extension": ".py",
   "mimetype": "text/x-python",
   "name": "python",
   "nbconvert_exporter": "python",
   "pygments_lexer": "ipython3",
   "version": "3.6.9"
  }
 },
 "nbformat": 4,
 "nbformat_minor": 4
}
